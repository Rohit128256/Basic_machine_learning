{
 "cells": [
  {
   "cell_type": "code",
   "execution_count": 452,
   "metadata": {},
   "outputs": [
    {
     "data": {
      "image/png": "[encoded data removed]",
      "text/plain": [
       "<Figure size 640x480 with 1 Axes>"
      ]
     },
     "metadata": {},
     "output_type": "display_data"
    }
   ],
   "source": [
    "import numpy as np\n",
    "import matplotlib.pyplot as plt\n",
    "x = np.array([[1,2],[1.5,1.8],[5,8],[8,8],[1,0.6],[9,11]])\n",
    "plt.scatter(x[:,0],x[:,1])\n",
    "plt.show()"
   ]
  },
  {
   "cell_type": "code",
   "execution_count": 453,
   "metadata": {},
   "outputs": [],
   "source": [
    "def cost(k,clusters,medoids):\n",
    "    cost = 0\n",
    "    for i in range(k):\n",
    "        clus_cost = 0\n",
    "        for j in clusters[i]:\n",
    "            clus_cost += np.absolute(j-medoids[i]).sum()\n",
    "        cost += clus_cost\n",
    "    return cost"
   ]
  },
  {
   "cell_type": "code",
   "execution_count": 454,
   "metadata": {},
   "outputs": [],
   "source": [
    "def makecluster(k,data,medoids):\n",
    "    clusters = []\n",
    "    for j in range(k):\n",
    "        clusters.append([])\n",
    "    for point in data:\n",
    "        distances = [np.absolute(point-m).sum() for m in medoids]\n",
    "        min_distance = min(distances)\n",
    "        l = distances.index(min_distance)\n",
    "        clusters[l].append(point)\n",
    "    return clusters"
   ]
  },
  {
   "cell_type": "code",
   "execution_count": 467,
   "metadata": {},
   "outputs": [],
   "source": [
    "def fit(data, k=2,max_iterations=100):\n",
    "    # Initialize medoids randomly\n",
    "    medoids = []\n",
    "    for i in range(k):\n",
    "        medoids.append(data[i])\n",
    "    \n",
    "    for _ in range(max_iterations):\n",
    "        # Assign points to clusters\n",
    "        clusters = makecluster(k, data, medoids)\n",
    "\n",
    "        \n",
    "        # Calculate the cost\n",
    "        old_cost = cost(k, clusters, medoids)\n",
    "\n",
    "        \n",
    "        # Update medoids\n",
    "        new_medoids = []\n",
    "        for i in medoids:\n",
    "            new_medoids.append(i)\n",
    "\n",
    "        temp = 0\n",
    "\n",
    "        for i in range(k):\n",
    "            temp = temp + 1\n",
    "            print(\"call outer loop\", temp)\n",
    "            cluster_points = clusters[i]\n",
    "            min_cost = float('inf')\n",
    "            new_medoid = medoids[i]\n",
    "            for point in cluster_points:\n",
    "                temp_med = [point if j == i else medoids[j] for j in range(k)]\n",
    "                print(\"The temp med is - \",temp_med)\n",
    "                new_cost = cost(k, clusters,temp_med)\n",
    "                if new_cost < min_cost:\n",
    "                    min_cost = new_cost\n",
    "                    new_medoid = point\n",
    "            medoids[i] = new_medoid\n",
    "        \n",
    "        # Re-assign points to clusters with updated medoids\n",
    "        clusters = makecluster(k, data, medoids)\n",
    "        \n",
    "        # Calculate new cost\n",
    "        new_cost = cost(k, clusters, medoids)\n",
    "        \n",
    "        # If there's no significant change in cost, break\n",
    "        if np.abs(old_cost - new_cost) < 1e-5:\n",
    "            break\n",
    "    \n",
    "    return medoids"
   ]
  },
  {
   "cell_type": "code",
   "execution_count": 468,
   "metadata": {},
   "outputs": [],
   "source": [
    "def predict(data,medoids):\n",
    "    predictions = []\n",
    "    for point in data:\n",
    "        distances = [np.absolute(point-m).sum() for m in medoids]\n",
    "        min_distance = min(distances)\n",
    "        l = distances.index(min_distance)\n",
    "        predictions.append(l)\n",
    "    return predictions"
   ]
  },
  {
   "cell_type": "code",
   "execution_count": 469,
   "metadata": {},
   "outputs": [
    {
     "name": "stdout",
     "output_type": "stream",
     "text": [
      "call outer loop 1\n",
      "The temp med is -  [array([1., 2.]), array([1.5, 1.8])]\n",
      "The temp med is -  [array([1. , 0.6]), array([1.5, 1.8])]\n",
      "call outer loop 2\n",
      "The temp med is -  [array([1., 2.]), array([1.5, 1.8])]\n",
      "The temp med is -  [array([1., 2.]), array([5., 8.])]\n",
      "The temp med is -  [array([1., 2.]), array([8., 8.])]\n",
      "The temp med is -  [array([1., 2.]), array([ 9., 11.])]\n",
      "call outer loop 1\n",
      "The temp med is -  [array([1., 2.]), array([5., 8.])]\n",
      "The temp med is -  [array([1.5, 1.8]), array([5., 8.])]\n",
      "The temp med is -  [array([1. , 0.6]), array([5., 8.])]\n",
      "call outer loop 2\n",
      "The temp med is -  [array([1., 2.]), array([5., 8.])]\n",
      "The temp med is -  [array([1., 2.]), array([8., 8.])]\n",
      "The temp med is -  [array([1., 2.]), array([ 9., 11.])]\n",
      "call outer loop 1\n",
      "The temp med is -  [array([1., 2.]), array([8., 8.])]\n",
      "The temp med is -  [array([1.5, 1.8]), array([8., 8.])]\n",
      "The temp med is -  [array([1. , 0.6]), array([8., 8.])]\n",
      "call outer loop 2\n",
      "The temp med is -  [array([1., 2.]), array([5., 8.])]\n",
      "The temp med is -  [array([1., 2.]), array([8., 8.])]\n",
      "The temp med is -  [array([1., 2.]), array([ 9., 11.])]\n"
     ]
    },
    {
     "data": {
      "text/plain": [
       "array([[1., 2.],\n",
       "       [8., 8.]])"
      ]
     },
     "execution_count": 469,
     "metadata": {},
     "output_type": "execute_result"
    }
   ],
   "source": [
    "medoids = fit(x)\n",
    "medoids = np.array(medoids)\n",
    "medoids"
   ]
  },
  {
   "cell_type": "code",
   "execution_count": 458,
   "metadata": {},
   "outputs": [
    {
     "data": {
      "text/plain": [
       "[0, 0, 1, 1, 0, 1]"
      ]
     },
     "execution_count": 458,
     "metadata": {},
     "output_type": "execute_result"
    }
   ],
   "source": [
    "y_out = predict(x,medoids)\n",
    "y_out"
   ]
  },
  {
   "cell_type": "code",
   "execution_count": 459,
   "metadata": {},
   "outputs": [
    {
     "data": {
      "text/plain": [
       "<function matplotlib.pyplot.show(close=None, block=None)>"
      ]
     },
     "execution_count": 459,
     "metadata": {},
     "output_type": "execute_result"
    },
    {
     "data": {
      "image/png": "[encoded data removed]",
      "text/plain": [
       "<Figure size 640x480 with 1 Axes>"
      ]
     },
     "metadata": {},
     "output_type": "display_data"
    }
   ],
   "source": [
    "plt.scatter(x[:,0],x[:,1],c=y_out)\n",
    "plt.scatter(medoids[:,0],medoids[:,1],c='red')\n",
    "plt.show"
   ]
  }
 ],
 "metadata": {
  "kernelspec": {
   "display_name": "Python 3",
   "language": "python",
   "name": "python3"
  },
  "language_info": {
   "codemirror_mode": {
    "name": "ipython",
    "version": 3
   },
   "file_extension": ".py",
   "mimetype": "text/x-python",
   "name": "python",
   "nbconvert_exporter": "python",
   "pygments_lexer": "ipython3",
   "version": "3.12.1"
  }
 },
 "nbformat": 4,
 "nbformat_minor": 2
}
