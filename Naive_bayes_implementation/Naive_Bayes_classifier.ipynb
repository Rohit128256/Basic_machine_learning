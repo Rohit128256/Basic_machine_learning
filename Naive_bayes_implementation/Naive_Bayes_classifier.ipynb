{
 "cells": [
  {
   "cell_type": "code",
   "execution_count": 233,
   "metadata": {},
   "outputs": [],
   "source": [
    "import numpy as np\n",
    "import pandas as pd\n",
    "from sklearn.model_selection import train_test_split\n",
    "from sklearn.datasets import load_iris\n",
    "from sklearn.metrics import confusion_matrix\n",
    "from sklearn.naive_bayes import GaussianNB\n",
    "data = load_iris()\n",
    "d_fr = pd.DataFrame(data.data,columns=data.feature_names)\n",
    "d_fr_out = pd.DataFrame(data.target,columns=[\"Flower\"])\n",
    "def label(val, *bounds):\n",
    "    if val < bounds[0]:\n",
    "        return 'a'\n",
    "    elif val < bounds[1]:\n",
    "        return 'b'\n",
    "    elif val < bounds[2]:\n",
    "        return 'c'\n",
    "    else:\n",
    "        return 'd'\n",
    "\n",
    "def to_label(df,old_f):\n",
    "    mini = df[old_f].min()\n",
    "    maxi = df[old_f].max()\n",
    "    mean = df[old_f].mean()\n",
    "    first = (mini+mean)/2 \n",
    "    second = mean\n",
    "    third = (mean+maxi)/2\n",
    "    return df[old_f].apply(label,args=(first,second,third))\n",
    "\n",
    "d_fr['sl_new'] = to_label(d_fr,'sepal length (cm)')\n",
    "d_fr['sw_new'] = to_label(d_fr,'sepal width (cm)')\n",
    "d_fr['pl_new'] = to_label(d_fr,'petal length (cm)')\n",
    "d_fr['pw_new'] = to_label(d_fr,'petal width (cm)')\n",
    "\n",
    "cols = ['sl_new','sw_new','pl_new','pw_new']\n",
    "x = d_fr[cols].values\n",
    "y = d_fr_out.values.reshape(-1)\n",
    "x_train,x_test,y_train,y_test = train_test_split(x,y,train_size = 0.75,random_state=45)"
   ]
  },
  {
   "cell_type": "code",
   "execution_count": 234,
   "metadata": {},
   "outputs": [],
   "source": [
    "def fit(x_train,y_train):\n",
    "    result = {}\n",
    "    result[\"Total_data_points\"] = len(y_train)\n",
    "    diff_classes = set(y_train)\n",
    "    for curr_class in diff_classes:\n",
    "        result[curr_class] = {}\n",
    "        x_train_curr_class = x_train[y_train == curr_class]\n",
    "        y_train_curr_class = y_train[y_train == curr_class]\n",
    "        result[curr_class][\"Total_count_ccls\"] = len(y_train_curr_class)\n",
    "        features = x_train.shape[1]\n",
    "        for fea in range(1,features+1):\n",
    "            result[curr_class][fea] = {}\n",
    "            distinct_values = set(x_train[:,fea-1])\n",
    "            for curr_value in distinct_values:\n",
    "                result[curr_class][fea][curr_value] = (x_train_curr_class[:,fea-1] == curr_value).sum()\n",
    "    return result"
   ]
  },
  {
   "cell_type": "code",
   "execution_count": 235,
   "metadata": {},
   "outputs": [],
   "source": [
    "def probablity(cls,x,dict):\n",
    "    p_clss = np.log(dict[cls][\"Total_count_ccls\"])-np.log(dict[\"Total_data_points\"])\n",
    "    prob = p_clss\n",
    "    num_fea = len(dict[cls].keys())-1\n",
    "    for j in range(1,num_fea+1):\n",
    "        count_clss_xj = dict[cls][j][x[j-1]]\n",
    "        count_clss = dict[cls][\"Total_count_ccls\"]\n",
    "        prob_xj_clss = np.log(count_clss_xj)-np.log(count_clss)\n",
    "        prob = p_clss + prob_xj_clss\n",
    "    return prob\n",
    "        \n"
   ]
  },
  {
   "cell_type": "code",
   "execution_count": 236,
   "metadata": {},
   "outputs": [],
   "source": [
    "def PredictSingleDataPoint(dict,x):\n",
    "    classes = dict.keys()\n",
    "    best_p = -100\n",
    "    best_class = -1\n",
    "    for curr_cls in classes:\n",
    "        if(curr_cls == \"Total_data_points\"):\n",
    "            continue\n",
    "        curr_prob = probablity(curr_cls,x,dict)\n",
    "        if(curr_prob >= best_p):\n",
    "            best_p = curr_prob\n",
    "            best_class = curr_cls\n",
    "    return best_class"
   ]
  },
  {
   "cell_type": "code",
   "execution_count": 237,
   "metadata": {},
   "outputs": [],
   "source": [
    "def predict(x_test,naive_dict):\n",
    "    y_pred = []\n",
    "    for x in x_test:\n",
    "        y_pred.append(PredictSingleDataPoint(naive_dict,x))\n",
    "    return y_pred"
   ]
  },
  {
   "cell_type": "code",
   "execution_count": 238,
   "metadata": {},
   "outputs": [
    {
     "name": "stdout",
     "output_type": "stream",
     "text": [
      "[[14  0  0]\n",
      " [ 0  9  0]\n",
      " [ 0  7  8]]\n"
     ]
    },
    {
     "name": "stderr",
     "output_type": "stream",
     "text": [
      "C:\\Users\\rohit\\AppData\\Local\\Temp\\ipykernel_15528\\585262538.py:8: RuntimeWarning: divide by zero encountered in log\n",
      "  prob_xj_clss = np.log(count_clss_xj)-np.log(count_clss)\n"
     ]
    }
   ],
   "source": [
    "naive_dict = fit(x_train,y_train)\n",
    "y_pred = predict(x_test,naive_dict)\n",
    "mat = confusion_matrix(y_test,y_pred)\n",
    "print(mat)\n"
   ]
  },
  {
   "cell_type": "code",
   "execution_count": 239,
   "metadata": {},
   "outputs": [
    {
     "name": "stdout",
     "output_type": "stream",
     "text": [
      "[[14  0  0]\n",
      " [ 0  9  0]\n",
      " [ 0  2 13]]\n"
     ]
    }
   ],
   "source": [
    "clf = GaussianNB()\n",
    "x_1 = data.data\n",
    "y_1 = data.target\n",
    "x_trn,x_tst,y_trn,y_tst = train_test_split(x_1,y_1,train_size = 0.75,random_state=45)\n",
    "clf.fit(x_trn,y_trn)\n",
    "y_pred = clf.predict(x_tst)\n",
    "print(confusion_matrix(y_tst,y_pred))"
   ]
  }
 ],
 "metadata": {
  "kernelspec": {
   "display_name": "Python 3",
   "language": "python",
   "name": "python3"
  },
  "language_info": {
   "codemirror_mode": {
    "name": "ipython",
    "version": 3
   },
   "file_extension": ".py",
   "mimetype": "text/x-python",
   "name": "python",
   "nbconvert_exporter": "python",
   "pygments_lexer": "ipython3",
   "version": "3.11.4"
  },
  "orig_nbformat": 4
 },
 "nbformat": 4,
 "nbformat_minor": 2
}
