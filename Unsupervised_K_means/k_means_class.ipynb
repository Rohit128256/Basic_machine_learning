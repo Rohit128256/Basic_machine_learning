{
 "cells": [
  {
   "cell_type": "code",
   "execution_count": 13,
   "metadata": {},
   "outputs": [],
   "source": [
    "import numpy as np\n",
    "import matplotlib.pyplot as plt\n",
    "\n",
    "class K_means:\n",
    "    def __init__(self,k=2,iter=100):\n",
    "        self.k = k\n",
    "        self.max_iter = iter\n",
    "    \n",
    "    def fit(self,data):\n",
    "        self.means =[]\n",
    "        for i in range(self.k):\n",
    "            self.means.append(data[i])\n",
    "        for i in range(self.max_iter):\n",
    "            clusters = []\n",
    "            for j in range(self.k):\n",
    "                clusters.append([])\n",
    "            for point in data:\n",
    "                distances = [((point-m)**2).sum() for m in self.means]\n",
    "                min_distance = min(distances)\n",
    "                l = distances.index(min_distance)\n",
    "                clusters[l].append(point)\n",
    "            change = False\n",
    "            for i in range(self.k):\n",
    "                new_mean = np.average(clusters[i],axis=0)\n",
    "                if not np.array_equal(self.means[i],new_mean):\n",
    "                    change = True\n",
    "                self.means[i] = new_mean\n",
    "            if not change:\n",
    "                break\n",
    "\n",
    "    \n",
    "    def predict(self,data):\n",
    "        predictions = []\n",
    "        for point in data:\n",
    "            distances = [((point-m)**2).sum() for m in self.means]\n",
    "            min_distance = min(distances)\n",
    "            l = distances.index(min_distance)\n",
    "            predictions.append(l)\n",
    "        return predictions\n"
   ]
  },
  {
   "cell_type": "code",
   "execution_count": 14,
   "metadata": {},
   "outputs": [],
   "source": [
    "x = np.array([[1,2],[1.5,1.8],[5,8],[8,8],[1,0.6],[9,11]])\n",
    "kmeans = K_means(2,15)\n",
    "kmeans.fit(x)"
   ]
  },
  {
   "cell_type": "code",
   "execution_count": 15,
   "metadata": {},
   "outputs": [
    {
     "data": {
      "text/plain": [
       "[array([1.16666667, 1.46666667]), array([7.33333333, 9.        ])]"
      ]
     },
     "execution_count": 15,
     "metadata": {},
     "output_type": "execute_result"
    }
   ],
   "source": [
    "kmeans.means"
   ]
  },
  {
   "cell_type": "code",
   "execution_count": 16,
   "metadata": {},
   "outputs": [
    {
     "data": {
      "text/plain": [
       "[0, 0, 1, 1, 0, 1]"
      ]
     },
     "execution_count": 16,
     "metadata": {},
     "output_type": "execute_result"
    }
   ],
   "source": [
    "pred = kmeans.predict(x)\n",
    "pred"
   ]
  }
 ],
 "metadata": {
  "kernelspec": {
   "display_name": "Python 3",
   "language": "python",
   "name": "python3"
  },
  "language_info": {
   "codemirror_mode": {
    "name": "ipython",
    "version": 3
   },
   "file_extension": ".py",
   "mimetype": "text/x-python",
   "name": "python",
   "nbconvert_exporter": "python",
   "pygments_lexer": "ipython3",
   "version": "3.12.1"
  }
 },
 "nbformat": 4,
 "nbformat_minor": 2
}
