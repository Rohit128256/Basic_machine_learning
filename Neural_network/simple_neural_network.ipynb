{
 "cells": [
  {
   "cell_type": "code",
   "execution_count": 1,
   "metadata": {},
   "outputs": [
    {
     "data": {
      "text/plain": [
       "((4, 2),\n",
       " (4, 1),\n",
       " array([[0],\n",
       "        [0],\n",
       "        [0],\n",
       "        [1]]))"
      ]
     },
     "execution_count": 1,
     "metadata": {},
     "output_type": "execute_result"
    }
   ],
   "source": [
    "import numpy as np\n",
    "x = np.array([[0,0],[0,1],[1,0],[1,1]])\n",
    "y = np.array([0,0,0,1]).reshape(4,1)\n",
    "x.shape , y.shape , y"
   ]
  },
  {
   "cell_type": "code",
   "execution_count": 2,
   "metadata": {},
   "outputs": [],
   "source": [
    "def sig(z):\n",
    "    return 1/(1+np.exp(-z))"
   ]
  },
  {
   "cell_type": "code",
   "execution_count": 3,
   "metadata": {},
   "outputs": [
    {
     "data": {
      "text/plain": [
       "(array([[0.3070816],\n",
       "        [0.6391044]]),\n",
       " array([0.72632051]))"
      ]
     },
     "execution_count": 3,
     "metadata": {},
     "output_type": "execute_result"
    }
   ],
   "source": [
    "weights = 2*np.random.random((2,1))-1\n",
    "bias = 2*np.random.random(1)-1\n",
    "weights, bias"
   ]
  },
  {
   "cell_type": "code",
   "execution_count": 4,
   "metadata": {},
   "outputs": [
    {
     "data": {
      "text/plain": [
       "array([[0.67399731],\n",
       "       [0.79663997],\n",
       "       [0.73757493],\n",
       "       [0.84190972]])"
      ]
     },
     "execution_count": 4,
     "metadata": {},
     "output_type": "execute_result"
    }
   ],
   "source": [
    "# forward propagation \n",
    "output_ip_layer = x\n",
    "output_op_layer = sig(np.dot(output_ip_layer,weights)+bias)\n",
    "output_op_layer"
   ]
  },
  {
   "cell_type": "code",
   "execution_count": 5,
   "metadata": {},
   "outputs": [],
   "source": [
    "def derivative_sig(z):\n",
    "    return sig(z)*(1-sig(z))"
   ]
  },
  {
   "cell_type": "code",
   "execution_count": 6,
   "metadata": {},
   "outputs": [
    {
     "data": {
      "text/plain": [
       "(array([[3.52683744],\n",
       "        [3.5277767 ]]),\n",
       " array([-5.47599925]),\n",
       " array([[0.00416859],\n",
       "        [0.1247473 ],\n",
       "        [0.12464478],\n",
       "        [0.82900826]]))"
      ]
     },
     "execution_count": 6,
     "metadata": {},
     "output_type": "execute_result"
    }
   ],
   "source": [
    "# code for backpropagation and gradient descent to achieve the correct weights\n",
    "lr = 0.1\n",
    "for iter in range(10000):\n",
    "    output_ip_layer = x\n",
    "    output_op_layer = sig(np.dot(output_ip_layer,weights)+bias)\n",
    "\n",
    "    first_term = output_op_layer - y # d(E)/d(oj)\n",
    "    ip_last_layer = sig(np.dot(output_ip_layer,weights)) + bias \n",
    "    second_term = derivative_sig(ip_last_layer) #d(oj)/d(ip_j)\n",
    "    first_two = first_term*second_term\n",
    "    changes = np.zeros((2,1),dtype=float) #array for each d(E)/d(w_ij) same shape as weight to change weights\n",
    "    # Here the third term - d(oj)/d(wij) = oi, which is output_input_layer[i][feature]\n",
    "    for fea in range(2):\n",
    "        for j in range(4):\n",
    "            changes[fea][0] += first_two[j][0] * output_ip_layer[j][fea]\n",
    "    weights = weights - lr*changes\n",
    "    bias_change = 0.0\n",
    "    for j in range(4):\n",
    "        bias_change += first_two[j][0]*1\n",
    "    bias = bias - lr*bias_change\n",
    "\n",
    "output_op_layer = sig(np.dot(output_ip_layer,weights)+bias)\n",
    "weights, bias , output_op_layer\n"
   ]
  }
 ],
 "metadata": {
  "kernelspec": {
   "display_name": "Python 3",
   "language": "python",
   "name": "python3"
  },
  "language_info": {
   "codemirror_mode": {
    "name": "ipython",
    "version": 3
   },
   "file_extension": ".py",
   "mimetype": "text/x-python",
   "name": "python",
   "nbconvert_exporter": "python",
   "pygments_lexer": "ipython3",
   "version": "3.12.1"
  }
 },
 "nbformat": 4,
 "nbformat_minor": 2
}
