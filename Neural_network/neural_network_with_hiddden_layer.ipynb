{
 "cells": [
  {
   "cell_type": "code",
   "execution_count": 82,
   "metadata": {},
   "outputs": [],
   "source": [
    "import numpy as np\n",
    "x = np.array([[0,0],[0,1],[1,0],[1,1]])\n",
    "y = np.array([0,1,1,0]).reshape(4,1)"
   ]
  },
  {
   "cell_type": "code",
   "execution_count": 83,
   "metadata": {},
   "outputs": [],
   "source": [
    "def sigmoid(z):\n",
    "    return 1/(1+np.exp(-z))"
   ]
  },
  {
   "cell_type": "code",
   "execution_count": 84,
   "metadata": {},
   "outputs": [],
   "source": [
    "def derivative_sig(z):\n",
    "    return sigmoid(z)*(1-sigmoid(z))"
   ]
  },
  {
   "cell_type": "code",
   "execution_count": 85,
   "metadata": {},
   "outputs": [],
   "source": [
    "weight_for_hidden = 2*np.random.random((2,2))-1\n",
    "bias_for_hidden = 2*np.random.random((1,2))-1\n",
    "weight_for_outer_layer = 2*np.random.random((2,1))-1\n",
    "bias_for_outer_layer = 2*np.random.random((1))-1"
   ]
  },
  {
   "cell_type": "code",
   "execution_count": 86,
   "metadata": {},
   "outputs": [
    {
     "data": {
      "text/plain": [
       "array([[0.64650973],\n",
       "       [0.62001351],\n",
       "       [0.63138889],\n",
       "       [0.60802073]])"
      ]
     },
     "execution_count": 86,
     "metadata": {},
     "output_type": "execute_result"
    }
   ],
   "source": [
    "out_ip = x\n",
    "out_hidden = sigmoid(np.dot(out_ip,weight_for_hidden)+bias_for_hidden)\n",
    "out_op_layer = sigmoid(np.dot(out_hidden,weight_for_outer_layer)+bias_for_outer_layer)\n",
    "out_op_layer"
   ]
  },
  {
   "cell_type": "code",
   "execution_count": 87,
   "metadata": {},
   "outputs": [],
   "source": [
    "lr = 0.1\n",
    "for iter in range(10000):\n",
    "    output0 = x\n",
    "    input_hidden_layer = np.dot(output0,weight_for_hidden)+ bias_for_hidden\n",
    "    output_hidden = sigmoid(input_hidden_layer)\n",
    "    input_for_outer_layer = np.dot(out_hidden,weight_for_outer_layer)+bias_for_outer_layer\n",
    "    final_output = sigmoid(input_for_outer_layer)\n",
    "\n",
    "    first_term_output_layer = final_output - y\n",
    "    second_term_output_layer = derivative_sig(input_for_outer_layer)\n",
    "    first_two_op_layer = first_term_output_layer*second_term_output_layer\n",
    "\n",
    "    first_term_hidden_layer = np.dot(first_two_op_layer,np.transpose(weight_for_outer_layer))\n",
    "    second_term_hidden_layer = derivative_sig(input_hidden_layer)\n",
    "    first_two_hidden_layer = first_term_hidden_layer*second_term_hidden_layer\n",
    "\n",
    "    chages_output = np.dot(np.transpose(output_hidden),first_two_op_layer)\n",
    "    changes_output_bias = np.sum(first_two_op_layer,keepdims=True,axis=0)\n",
    "\n",
    "    chages_hidden = np.dot(np.transpose(output0),first_two_hidden_layer)\n",
    "    changes_hidden_bias = np.sum(first_two_hidden_layer,keepdims=True,axis=0)\n",
    "\n",
    "    weight_for_outer_layer = weight_for_outer_layer - lr*chages_output\n",
    "    bias_for_outer_layer = bias_for_outer_layer - lr*changes_output_bias\n",
    "\n",
    "    weight_for_hidden = weight_for_hidden - lr*chages_hidden\n",
    "    bias_for_hidden = bias_for_hidden - lr*changes_hidden_bias\n"
   ]
  },
  {
   "cell_type": "code",
   "execution_count": 88,
   "metadata": {},
   "outputs": [
    {
     "data": {
      "text/plain": [
       "array([[2.06705854e-10],\n",
       "       [9.99990218e-01],\n",
       "       [9.99876936e-01],\n",
       "       [1.56909364e-10]])"
      ]
     },
     "execution_count": 88,
     "metadata": {},
     "output_type": "execute_result"
    }
   ],
   "source": [
    "out_ip = x\n",
    "out_hidden = sigmoid(np.dot(out_ip,weight_for_hidden)+bias_for_hidden)\n",
    "out_op_layer = sigmoid(np.dot(out_hidden,weight_for_outer_layer)+bias_for_outer_layer)\n",
    "out_op_layer"
   ]
  }
 ],
 "metadata": {
  "kernelspec": {
   "display_name": "Python 3",
   "language": "python",
   "name": "python3"
  },
  "language_info": {
   "codemirror_mode": {
    "name": "ipython",
    "version": 3
   },
   "file_extension": ".py",
   "mimetype": "text/x-python",
   "name": "python",
   "nbconvert_exporter": "python",
   "pygments_lexer": "ipython3",
   "version": "3.12.1"
  }
 },
 "nbformat": 4,
 "nbformat_minor": 2
}
